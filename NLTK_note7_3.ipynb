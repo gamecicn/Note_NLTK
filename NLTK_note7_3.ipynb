{
  "nbformat": 4,
  "nbformat_minor": 0,
  "metadata": {
    "colab": {
      "name": "Untitled3.ipynb",
      "provenance": [],
      "collapsed_sections": [],
      "authorship_tag": "ABX9TyOxunVianT/t2nZuMiaTrFV",
      "include_colab_link": true
    },
    "kernelspec": {
      "name": "python3",
      "display_name": "Python 3"
    },
    "accelerator": "GPU"
  },
  "cells": [
    {
      "cell_type": "markdown",
      "metadata": {
        "id": "view-in-github",
        "colab_type": "text"
      },
      "source": [
        "<a href=\"https://colab.research.google.com/github/gamecicn/Note_NLTK/blob/main/NLTK_note7_3.ipynb\" target=\"_parent\"><img src=\"https://colab.research.google.com/assets/colab-badge.svg\" alt=\"Open In Colab\"/></a>"
      ]
    },
    {
      "cell_type": "code",
      "metadata": {
        "id": "zIrz9q_4rWMH"
      },
      "source": [
        "from nltk.corpus import conll2000\n",
        "import nltk"
      ],
      "execution_count": 4,
      "outputs": []
    },
    {
      "cell_type": "code",
      "metadata": {
        "id": "okm5SrIhsPD3",
        "outputId": "5bbc6ab9-6a5b-493d-f512-0120ba369dad",
        "colab": {
          "base_uri": "https://localhost:8080/"
        }
      },
      "source": [
        "nltk.download(\"conll2000\")"
      ],
      "execution_count": 7,
      "outputs": [
        {
          "output_type": "stream",
          "text": [
            "[nltk_data] Downloading package conll2000 to /root/nltk_data...\n",
            "[nltk_data]   Unzipping corpora/conll2000.zip.\n"
          ],
          "name": "stdout"
        },
        {
          "output_type": "execute_result",
          "data": {
            "text/plain": [
              "True"
            ]
          },
          "metadata": {
            "tags": []
          },
          "execution_count": 7
        }
      ]
    },
    {
      "cell_type": "code",
      "metadata": {
        "id": "KCJyY6xgsXiR"
      },
      "source": [
        "class UnigramChunker(nltk.ChunkParserI):\n",
        "  def __init__(self, train_sents):  \n",
        "      train_data = [[(t,c) for w,t,c in nltk.chunk.tree2conlltags(sent)]\n",
        "                    for sent in train_sents]\n",
        "      self.tagger = nltk.UnigramTagger(train_data)  \n",
        "\n",
        "  def parse(self, sentence):  \n",
        "      pos_tags = [pos for (word,pos) in sentence]\n",
        "      tagged_pos_tags = self.tagger.tag(pos_tags)\n",
        "      chunktags = [chunktag for (pos, chunktag) in tagged_pos_tags]\n",
        "      conlltags = [(word, pos, chunktag) for ((word,pos),chunktag)\n",
        "                    in zip(sentence, chunktags)]\n",
        "      return nltk.chunk.conlltags2tree(conlltags)"
      ],
      "execution_count": 5,
      "outputs": []
    },
    {
      "cell_type": "code",
      "metadata": {
        "id": "UfCReU4errTo",
        "outputId": "9ba4de46-543c-4552-e188-e5f1e6b91dbb",
        "colab": {
          "base_uri": "https://localhost:8080/"
        }
      },
      "source": [
        "test_sents = conll2000.chunked_sents('test.txt', chunk_types=['NP'])\n",
        "train_sents = conll2000.chunked_sents('train.txt', chunk_types=['NP'])\n",
        "unigram_chunker = UnigramChunker(train_sents)\n",
        "print(unigram_chunker.evaluate(test_sents))"
      ],
      "execution_count": 8,
      "outputs": [
        {
          "output_type": "stream",
          "text": [
            "ChunkParse score:\n",
            "    IOB Accuracy:  92.9%%\n",
            "    Precision:     79.9%%\n",
            "    Recall:        86.8%%\n",
            "    F-Measure:     83.2%%\n"
          ],
          "name": "stdout"
        }
      ]
    },
    {
      "cell_type": "code",
      "metadata": {
        "id": "WbX6w6EcqyuK"
      },
      "source": [
        "class ConsecutiveNPChunkTagger(nltk.TaggerI): \n",
        "\n",
        "  def __init__(self, train_sents):\n",
        "      train_set = []\n",
        "      for tagged_sent in train_sents:\n",
        "          untagged_sent = nltk.tag.untag(tagged_sent)\n",
        "          history = []\n",
        "          for i, (word, tag) in enumerate(tagged_sent):\n",
        "              featureset = npchunk_features(untagged_sent, i, history)  \n",
        "              train_set.append( (featureset, tag) )\n",
        "              history.append(tag)\n",
        "      #self.classifier = nltk.MaxentClassifier.train(  \n",
        "      #    train_set, algorithm='GIS', trace=0)\n",
        "      \n",
        "      self.classifier = nltk.NaiveBayesClassifier.train(train_set)\n",
        "\n",
        "\n",
        "  def tag(self, sentence):\n",
        "      history = []\n",
        "      for i, word in enumerate(sentence):\n",
        "          featureset = npchunk_features(sentence, i, history)\n",
        "          tag = self.classifier.classify(featureset)\n",
        "          history.append(tag)\n",
        "      return zip(sentence, history)\n",
        "\n",
        "class ConsecutiveNPChunker(nltk.ChunkParserI):  \n",
        "  def __init__(self, train_sents):\n",
        "      tagged_sents = [[((w,t),c) for (w,t,c) in\n",
        "                        nltk.chunk.tree2conlltags(sent)]\n",
        "                      for sent in train_sents]\n",
        "      self.tagger = ConsecutiveNPChunkTagger(tagged_sents)\n",
        "\n",
        "  def parse(self, sentence):\n",
        "      tagged_sents = self.tagger.tag(sentence)\n",
        "      conlltags = [(w,t,c) for ((w,t),c) in tagged_sents]\n",
        "      return nltk.chunk.conlltags2tree(conlltags)"
      ],
      "execution_count": 9,
      "outputs": []
    },
    {
      "cell_type": "code",
      "metadata": {
        "id": "plEStwv1rsI9",
        "outputId": "dd47a3ac-dc7a-46d0-a5dc-3e7ec9377136",
        "colab": {
          "base_uri": "https://localhost:8080/"
        }
      },
      "source": [
        "def npchunk_features(sentence, i, history):\n",
        "    word, pos = sentence[i]\n",
        "    return {\"pos\": pos}\n",
        "\n",
        "chunker = ConsecutiveNPChunker(train_sents)\n",
        "print(chunker.evaluate(test_sents))"
      ],
      "execution_count": 10,
      "outputs": [
        {
          "output_type": "stream",
          "text": [
            "ChunkParse score:\n",
            "    IOB Accuracy:  92.9%%\n",
            "    Precision:     79.9%%\n",
            "    Recall:        86.8%%\n",
            "    F-Measure:     83.2%%\n"
          ],
          "name": "stdout"
        }
      ]
    },
    {
      "cell_type": "code",
      "metadata": {
        "id": "JPS4kTJytO3Q",
        "outputId": "aaa5cd87-cfe2-4796-fde0-b5f31c9a3242",
        "colab": {
          "base_uri": "https://localhost:8080/"
        }
      },
      "source": [
        "def npchunk_features(sentence, i, history):\n",
        "  word, pos = sentence[i]\n",
        "  if i == 0:\n",
        "    prevword, prevpos = \"<START>\", \"<START>\"\n",
        "  else:\n",
        "    prevword, prevpos = sentence[i-1]\n",
        "  return {\"pos\": pos, \"prevpos\": prevpos}\n",
        "chunker = ConsecutiveNPChunker(train_sents)\n",
        "print(chunker.evaluate(test_sents))"
      ],
      "execution_count": 13,
      "outputs": [
        {
          "output_type": "stream",
          "text": [
            "ChunkParse score:\n",
            "    IOB Accuracy:  93.6%%\n",
            "    Precision:     81.9%%\n",
            "    Recall:        88.6%%\n",
            "    F-Measure:     85.1%%\n"
          ],
          "name": "stdout"
        }
      ]
    },
    {
      "cell_type": "code",
      "metadata": {
        "id": "sVoWyYzmtesJ",
        "outputId": "bed80d9a-b7d1-4829-df2d-0a866e0866de",
        "colab": {
          "base_uri": "https://localhost:8080/"
        }
      },
      "source": [
        "def npchunk_features(sentence, i, history):\n",
        "    word, pos = sentence[i]\n",
        "    if i == 0:\n",
        "        prevword, prevpos = \"<START>\", \"<START>\"\n",
        "    else:\n",
        "        prevword, prevpos = sentence[i-1]\n",
        "    return {\"pos\": pos, \"word\": word, \"prevpos\": prevpos}\n",
        "chunker = ConsecutiveNPChunker(train_sents)\n",
        "print(chunker.evaluate(test_sents))"
      ],
      "execution_count": 14,
      "outputs": [
        {
          "output_type": "stream",
          "text": [
            "ChunkParse score:\n",
            "    IOB Accuracy:  94.4%%\n",
            "    Precision:     84.1%%\n",
            "    Recall:        89.8%%\n",
            "    F-Measure:     86.9%%\n"
          ],
          "name": "stdout"
        }
      ]
    },
    {
      "cell_type": "code",
      "metadata": {
        "id": "CqRljCRAtlMx"
      },
      "source": [
        "def npchunk_features(sentence, i, history):\n",
        "    word, pos = sentence[i]\n",
        "    if i == 0:\n",
        "        prevword, prevpos = \"<START>\", \"<START>\"\n",
        "    else:\n",
        "        prevword, prevpos = sentence[i-1]\n",
        "    if i == len(sentence)-1:\n",
        "        nextword, nextpos = \"<END>\", \"<END>\"\n",
        "    else:\n",
        "        nextword, nextpos = sentence[i+1]\n",
        "    return {\"pos\": pos,\n",
        "            \"word\": word,\n",
        "            \"prevpos\": prevpos,\n",
        "            \"nextpos\": nextpos, \n",
        "            \"prevpos+pos\": \"%s+%s\" % (prevpos, pos),  \n",
        "            \"pos+nextpos\": \"%s+%s\" % (pos, nextpos),\n",
        "            \"tags-since-dt\": tags_since_dt(sentence, i)} "
      ],
      "execution_count": 15,
      "outputs": []
    },
    {
      "cell_type": "code",
      "metadata": {
        "id": "XDQ4UxCxttzN"
      },
      "source": [
        "def tags_since_dt(sentence, i):\n",
        "  tags = set()\n",
        "  for word, pos in sentence[:i]:\n",
        "      if pos == 'DT':\n",
        "          tags = set()\n",
        "      else:\n",
        "          tags.add(pos)\n",
        "  return '+'.join(sorted(tags))"
      ],
      "execution_count": 18,
      "outputs": []
    },
    {
      "cell_type": "code",
      "metadata": {
        "id": "TremQJVgt18r",
        "outputId": "e0aaf3f9-b5cb-47a7-814e-6a5de7d4ab45",
        "colab": {
          "base_uri": "https://localhost:8080/"
        }
      },
      "source": [
        "chunker = ConsecutiveNPChunker(train_sents)\n",
        "print(chunker.evaluate(test_sents))"
      ],
      "execution_count": 19,
      "outputs": [
        {
          "output_type": "stream",
          "text": [
            "ChunkParse score:\n",
            "    IOB Accuracy:  95.0%%\n",
            "    Precision:     85.9%%\n",
            "    Recall:        90.0%%\n",
            "    F-Measure:     87.9%%\n"
          ],
          "name": "stdout"
        }
      ]
    }
  ]
}